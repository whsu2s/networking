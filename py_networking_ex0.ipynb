{
  "nbformat": 4,
  "nbformat_minor": 0,
  "metadata": {
    "colab": {
      "name": "py-networking-ex0.ipynb",
      "provenance": [],
      "collapsed_sections": [],
      "toc_visible": true,
      "authorship_tag": "ABX9TyO3et3/AFGnA72LAf3YO/Lg",
      "include_colab_link": true
    },
    "kernelspec": {
      "name": "python3",
      "display_name": "Python 3"
    }
  },
  "cells": [
    {
      "cell_type": "markdown",
      "metadata": {
        "id": "view-in-github",
        "colab_type": "text"
      },
      "source": [
        "<a href=\"https://colab.research.google.com/github/whsu2s/networking/blob/master/py_networking_ex0.ipynb\" target=\"_parent\"><img src=\"https://colab.research.google.com/assets/colab-badge.svg\" alt=\"Open In Colab\"/></a>"
      ]
    },
    {
      "cell_type": "code",
      "metadata": {
        "id": "P5YG6dB1VTHy",
        "colab_type": "code",
        "colab": {}
      },
      "source": [
        "import sys, urllib.request\n",
        "import datetime"
      ],
      "execution_count": null,
      "outputs": []
    },
    {
      "cell_type": "code",
      "metadata": {
        "id": "KbF4nWscVVEo",
        "colab_type": "code",
        "colab": {
          "base_uri": "https://localhost:8080/",
          "height": 34
        },
        "outputId": "c504148c-664d-4acd-b5bf-d98fa8648c9d"
      },
      "source": [
        "rfc_num = 1035\n",
        "url = 'https://www.ietf.org/rfc/rfc{}.txt'.format(rfc_num)\n",
        "rfc_raw = urllib.request.urlopen(url).read()\n",
        "rfc = rfc_raw.decode()\n",
        "print(len(rfc))"
      ],
      "execution_count": null,
      "outputs": [
        {
          "output_type": "stream",
          "text": [
            "122549\n"
          ],
          "name": "stdout"
        }
      ]
    },
    {
      "cell_type": "code",
      "metadata": {
        "id": "eMxX4w1TWQfX",
        "colab_type": "code",
        "colab": {}
      },
      "source": [
        ""
      ],
      "execution_count": null,
      "outputs": []
    },
    {
      "cell_type": "markdown",
      "metadata": {
        "id": "T4vPpF0Omm2T",
        "colab_type": "text"
      },
      "source": [
        "## HTTP Request"
      ]
    },
    {
      "cell_type": "code",
      "metadata": {
        "id": "-N4Lter7YPL8",
        "colab_type": "code",
        "colab": {}
      },
      "source": [
        "from urllib.request import urlopen, Request"
      ],
      "execution_count": null,
      "outputs": []
    },
    {
      "cell_type": "code",
      "metadata": {
        "id": "wPyH7i0im5X7",
        "colab_type": "code",
        "colab": {}
      },
      "source": [
        "response = urlopen('https://www.debian.org')"
      ],
      "execution_count": null,
      "outputs": []
    },
    {
      "cell_type": "code",
      "metadata": {
        "id": "NvKfp8WTnCRL",
        "colab_type": "code",
        "colab": {
          "base_uri": "https://localhost:8080/",
          "height": 34
        },
        "outputId": "521941e4-3289-458e-ff6c-bc43388a3295"
      },
      "source": [
        "print('Status code: ', response.code)"
      ],
      "execution_count": null,
      "outputs": [
        {
          "output_type": "stream",
          "text": [
            "Status code:  200\n"
          ],
          "name": "stdout"
        }
      ]
    },
    {
      "cell_type": "code",
      "metadata": {
        "id": "8D0AD2iCnL6N",
        "colab_type": "code",
        "colab": {
          "base_uri": "https://localhost:8080/",
          "height": 34
        },
        "outputId": "cc5a3be7-cb85-4364-bd6e-7fe474ba5e60"
      },
      "source": [
        "# Content negotiation\n",
        "headers = {'Accept-Encoding': 'deflate, gzip, identity'}\n",
        "req = Request('https://www.debian.org', headers=headers)\n",
        "response = urlopen(req)\n",
        "response.getheader('Content-Encoding')"
      ],
      "execution_count": null,
      "outputs": [
        {
          "output_type": "execute_result",
          "data": {
            "text/plain": [
              "'gzip'"
            ]
          },
          "metadata": {
            "tags": []
          },
          "execution_count": 9
        }
      ]
    },
    {
      "cell_type": "code",
      "metadata": {
        "id": "4hFXC9QHn7Dz",
        "colab_type": "code",
        "colab": {
          "base_uri": "https://localhost:8080/",
          "height": 34
        },
        "outputId": "21c0251f-4601-4489-bbd1-bfa08fa78cbe"
      },
      "source": [
        "# MIME type: html, plain, jpeg, pdf, json, ...\n",
        "response.getheader('Content-Type')"
      ],
      "execution_count": null,
      "outputs": [
        {
          "output_type": "execute_result",
          "data": {
            "text/plain": [
              "'text/html'"
            ]
          },
          "metadata": {
            "tags": []
          },
          "execution_count": 10
        }
      ]
    },
    {
      "cell_type": "code",
      "metadata": {
        "id": "XFT-1esCsHbk",
        "colab_type": "code",
        "colab": {}
      },
      "source": [
        "req.get_header('User-Agent')"
      ],
      "execution_count": null,
      "outputs": []
    },
    {
      "cell_type": "code",
      "metadata": {
        "id": "G-RnXFwWtuyU",
        "colab_type": "code",
        "colab": {}
      },
      "source": [
        "# Cookie handling\n",
        "from http.cookiejar import CookieJar\n",
        "from urllib.request import build_opener, HTTPCookieProcessor"
      ],
      "execution_count": null,
      "outputs": []
    },
    {
      "cell_type": "code",
      "metadata": {
        "id": "k8z6fZmKx12U",
        "colab_type": "code",
        "colab": {
          "base_uri": "https://localhost:8080/",
          "height": 34
        },
        "outputId": "646df955-82da-4095-efeb-f8046cb13aa5"
      },
      "source": [
        "cookie_jar = CookieJar()\n",
        "opener = build_opener(HTTPCookieProcessor(cookie_jar))\n",
        "opener.open('http://www.google.com')\n",
        "print(len(cookie_jar))"
      ],
      "execution_count": null,
      "outputs": [
        {
          "output_type": "stream",
          "text": [
            "2\n"
          ],
          "name": "stdout"
        }
      ]
    },
    {
      "cell_type": "code",
      "metadata": {
        "id": "XfSGDvmKyZaM",
        "colab_type": "code",
        "colab": {
          "base_uri": "https://localhost:8080/",
          "height": 71
        },
        "outputId": "4a023ad5-ab3b-4aec-ad67-be8f49867e93"
      },
      "source": [
        "cookies = list(cookie_jar)\n",
        "cookies"
      ],
      "execution_count": null,
      "outputs": [
        {
          "output_type": "execute_result",
          "data": {
            "text/plain": [
              "[Cookie(version=0, name='1P_JAR', value='2020-06-05-14', port=None, port_specified=False, domain='.google.com', domain_specified=True, domain_initial_dot=True, path='/', path_specified=True, secure=True, expires=1593957703, discard=False, comment=None, comment_url=None, rest={}, rfc2109=False),\n",
              " Cookie(version=0, name='NID', value='204=MUd5xuQ2U0CHmvJVWTmtyYwrLYci1AMsWyEuVtzKnCuYK4c1lv-cIAGv0nqS2YxaFBTZUGPTxt4_AcVV8oVL6ns9QY2M_BbUXi2Qwr4i4K0TEw1DpDHoquVknYUpKqSrsYec_8vz4jUw5qsnD0sPkBSGPmYsGpDhgSTRbB_Leq8', port=None, port_specified=False, domain='.google.com', domain_specified=True, domain_initial_dot=True, path='/', path_specified=True, secure=False, expires=1607176903, discard=False, comment=None, comment_url=None, rest={'HttpOnly': None}, rfc2109=False)]"
            ]
          },
          "metadata": {
            "tags": []
          },
          "execution_count": 16
        }
      ]
    },
    {
      "cell_type": "code",
      "metadata": {
        "id": "xe7w5BiLyd8Z",
        "colab_type": "code",
        "colab": {
          "base_uri": "https://localhost:8080/",
          "height": 68
        },
        "outputId": "db064c78-451f-4780-cfc6-8923de577877"
      },
      "source": [
        "print('The cookie is valid at: ', cookies[0].domain)\n",
        "lifetime = datetime.datetime.fromtimestamp(cookies[0].expires)\n",
        "print('The cookie is valid until ', lifetime)\n",
        "print('The cookie is sent over secure connection: ', cookies[0].secure)"
      ],
      "execution_count": null,
      "outputs": [
        {
          "output_type": "stream",
          "text": [
            "The cookie is valid at:  .google.com\n",
            "The cookie is valid until  2020-07-05 14:01:43\n",
            "The cookie is sent over secure connection:  True\n"
          ],
          "name": "stdout"
        }
      ]
    },
    {
      "cell_type": "markdown",
      "metadata": {
        "id": "VCzYv1WUj7EW",
        "colab_type": "text"
      },
      "source": [
        "## URLs:\n",
        "absolute v.s. relative URL"
      ]
    },
    {
      "cell_type": "code",
      "metadata": {
        "id": "WH9tDegiyrzr",
        "colab_type": "code",
        "colab": {}
      },
      "source": [
        "from urllib.parse import urlparse, urljoin, quote"
      ],
      "execution_count": null,
      "outputs": []
    },
    {
      "cell_type": "code",
      "metadata": {
        "id": "W8DtSkZ5kTyw",
        "colab_type": "code",
        "colab": {
          "base_uri": "https://localhost:8080/",
          "height": 54
        },
        "outputId": "458cb4eb-31dc-4463-f064-a7c030f3351a"
      },
      "source": [
        "result = urlparse('http://docs.python.org/3/search.html?q=urlparse&area=default')\n",
        "result"
      ],
      "execution_count": null,
      "outputs": [
        {
          "output_type": "execute_result",
          "data": {
            "text/plain": [
              "ParseResult(scheme='http', netloc='docs.python.org', path='/3/search.html', params='', query='q=urlparse&area=default', fragment='')"
            ]
          },
          "metadata": {
            "tags": []
          },
          "execution_count": 5
        }
      ]
    },
    {
      "cell_type": "code",
      "metadata": {
        "id": "shrEwUQbkgT6",
        "colab_type": "code",
        "colab": {}
      },
      "source": [
        ""
      ],
      "execution_count": null,
      "outputs": []
    }
  ]
}